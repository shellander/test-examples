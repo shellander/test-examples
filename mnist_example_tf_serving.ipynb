{
 "cells": [
  {
   "cell_type": "code",
   "execution_count": 1,
   "id": "infinite-stuff",
   "metadata": {},
   "outputs": [],
   "source": [
    "import os\n",
    "os.environ['TF_FORCE_GPU_ALLOW_GROWTH'] = 'true'\n",
    "\n",
    "# os.environ['CUDA_VISIBLE_DEVICES'] = '-1'\n",
    "\n",
    "import numpy as np\n",
    "import tensorflow as tf\n",
    "from tensorflow import keras\n",
    "from tensorflow.keras import layers\n",
    "\n"
   ]
  },
  {
   "cell_type": "code",
   "execution_count": 2,
   "id": "extraordinary-harrison",
   "metadata": {},
   "outputs": [
    {
     "name": "stdout",
     "output_type": "stream",
     "text": [
      "Downloading data from https://storage.googleapis.com/tensorflow/tf-keras-datasets/mnist.npz\n",
      "11493376/11490434 [==============================] - 0s 0us/step\n",
      "x_train shape: (60000, 28, 28, 1)\n",
      "60000 train samples\n",
      "10000 test samples\n"
     ]
    }
   ],
   "source": [
    "# Model / data parameters\n",
    "num_classes = 10\n",
    "input_shape = (28, 28, 1)\n",
    "\n",
    "# the data, split between train and test sets\n",
    "(x_train, y_train), (x_test, y_test) = keras.datasets.mnist.load_data()\n",
    "\n",
    "# Scale images to the [0, 1] range\n",
    "x_train = x_train.astype(\"float32\") / 255\n",
    "x_test = x_test.astype(\"float32\") / 255\n",
    "# Make sure images have shape (28, 28, 1)\n",
    "x_train = np.expand_dims(x_train, -1)\n",
    "x_test = np.expand_dims(x_test, -1)\n",
    "print(\"x_train shape:\", x_train.shape)\n",
    "print(x_train.shape[0], \"train samples\")\n",
    "print(x_test.shape[0], \"test samples\")\n",
    "\n",
    "\n",
    "# convert class vectors to binary class matrices\n",
    "y_train = keras.utils.to_categorical(y_train, num_classes)\n",
    "y_test = keras.utils.to_categorical(y_test, num_classes)\n"
   ]
  },
  {
   "cell_type": "code",
   "execution_count": 3,
   "id": "divine-messenger",
   "metadata": {},
   "outputs": [
    {
     "name": "stdout",
     "output_type": "stream",
     "text": [
      "Model: \"sequential\"\n",
      "_________________________________________________________________\n",
      "Layer (type)                 Output Shape              Param #   \n",
      "=================================================================\n",
      "conv2d (Conv2D)              (None, 26, 26, 32)        320       \n",
      "_________________________________________________________________\n",
      "max_pooling2d (MaxPooling2D) (None, 13, 13, 32)        0         \n",
      "_________________________________________________________________\n",
      "conv2d_1 (Conv2D)            (None, 11, 11, 64)        18496     \n",
      "_________________________________________________________________\n",
      "max_pooling2d_1 (MaxPooling2 (None, 5, 5, 64)          0         \n",
      "_________________________________________________________________\n",
      "flatten (Flatten)            (None, 1600)              0         \n",
      "_________________________________________________________________\n",
      "dropout (Dropout)            (None, 1600)              0         \n",
      "_________________________________________________________________\n",
      "dense (Dense)                (None, 10)                16010     \n",
      "=================================================================\n",
      "Total params: 34,826\n",
      "Trainable params: 34,826\n",
      "Non-trainable params: 0\n",
      "_________________________________________________________________\n"
     ]
    }
   ],
   "source": [
    "model = keras.Sequential(\n",
    "    [\n",
    "        keras.Input(shape=input_shape),\n",
    "        layers.Conv2D(32, kernel_size=(3, 3), activation=\"relu\"),\n",
    "        layers.MaxPooling2D(pool_size=(2, 2)),\n",
    "        layers.Conv2D(64, kernel_size=(3, 3), activation=\"relu\"),\n",
    "        layers.MaxPooling2D(pool_size=(2, 2)),\n",
    "        layers.Flatten(),\n",
    "        layers.Dropout(0.5),\n",
    "        layers.Dense(num_classes, activation=\"softmax\"),\n",
    "    ]\n",
    ")\n",
    "\n",
    "model.summary()\n"
   ]
  },
  {
   "cell_type": "code",
   "execution_count": 4,
   "id": "moving-lender",
   "metadata": {},
   "outputs": [
    {
     "name": "stdout",
     "output_type": "stream",
     "text": [
      "422/422 [==============================] - 88s 207ms/step - loss: 0.7727 - accuracy: 0.7705 - val_loss: 0.0809 - val_accuracy: 0.9775\n"
     ]
    },
    {
     "data": {
      "text/plain": [
       "<tensorflow.python.keras.callbacks.History at 0x7f16736340a0>"
      ]
     },
     "execution_count": 4,
     "metadata": {},
     "output_type": "execute_result"
    }
   ],
   "source": [
    "\n",
    "batch_size = 128\n",
    "epochs = 1\n",
    "\n",
    "model.compile(loss=\"categorical_crossentropy\", optimizer=\"adam\", metrics=[\"accuracy\"])\n",
    "\n",
    "model.fit(x_train, y_train, batch_size=batch_size, epochs=epochs, validation_split=0.1)\n"
   ]
  },
  {
   "cell_type": "code",
   "execution_count": 5,
   "id": "established-foster",
   "metadata": {},
   "outputs": [
    {
     "name": "stdout",
     "output_type": "stream",
     "text": [
      "INFO:tensorflow:Assets written to: models/1/assets\n"
     ]
    }
   ],
   "source": [
    "tf.saved_model.save(model, 'models/1/')"
   ]
  },
  {
   "cell_type": "code",
   "execution_count": 16,
   "id": "appreciated-farming",
   "metadata": {},
   "outputs": [],
   "source": []
  },
  {
   "cell_type": "code",
   "execution_count": 6,
   "id": "bibliographic-greene",
   "metadata": {},
   "outputs": [],
   "source": [
    "import requests\n",
    "import stackn.auth as sa"
   ]
  },
  {
   "cell_type": "code",
   "execution_count": 7,
   "id": "biblical-owner",
   "metadata": {},
   "outputs": [],
   "source": [
    "inp = {\"inputs\": x_test[0:10].tolist()}"
   ]
  },
  {
   "cell_type": "code",
   "execution_count": 13,
   "id": "together-handle",
   "metadata": {},
   "outputs": [],
   "source": [
    "conf, status = sa.get_token()\n",
    "res = requests.post('https://tensorflow-serving-mnist-test-qce-3053.studio.safespring-prod.stackn.dev/v1/models/models:predict', json=inp, headers={\"Authorization\": \"Bearer \"+conf[\"STACKN_ACCESS_TOKEN\"]})"
   ]
  },
  {
   "cell_type": "code",
   "execution_count": 14,
   "id": "sexual-reach",
   "metadata": {},
   "outputs": [
    {
     "data": {
      "text/plain": [
       "{'outputs': [[4.15957722e-08,\n",
       "   6.85566537e-09,\n",
       "   7.93871914e-06,\n",
       "   3.95273491e-05,\n",
       "   1.8102374e-09,\n",
       "   1.44897943e-08,\n",
       "   6.83692903e-12,\n",
       "   0.999945283,\n",
       "   1.44509144e-07,\n",
       "   7.02038869e-06],\n",
       "  [0.000607995142,\n",
       "   0.000216388493,\n",
       "   0.997768402,\n",
       "   3.48679241e-05,\n",
       "   6.62404132e-09,\n",
       "   3.96604776e-07,\n",
       "   0.00127462833,\n",
       "   1.32029032e-09,\n",
       "   9.72495327e-05,\n",
       "   1.06563008e-10],\n",
       "  [2.07135017e-05,\n",
       "   0.997694194,\n",
       "   0.000123326434,\n",
       "   1.10356914e-05,\n",
       "   0.000992167625,\n",
       "   9.1894e-07,\n",
       "   0.000158237133,\n",
       "   0.000698272837,\n",
       "   0.000274383812,\n",
       "   2.66855604e-05],\n",
       "  [0.999904871,\n",
       "   4.30931749e-11,\n",
       "   3.8278572e-06,\n",
       "   7.08784711e-08,\n",
       "   6.928056e-08,\n",
       "   8.07726735e-07,\n",
       "   8.27961e-05,\n",
       "   2.15087948e-06,\n",
       "   6.04799595e-07,\n",
       "   4.79577693e-06],\n",
       "  [4.91716094e-07,\n",
       "   5.28069144e-08,\n",
       "   3.14247529e-07,\n",
       "   1.01926318e-07,\n",
       "   0.999386549,\n",
       "   7.46688045e-08,\n",
       "   8.23205301e-06,\n",
       "   4.20619745e-06,\n",
       "   7.71292889e-07,\n",
       "   0.00059921114],\n",
       "  [1.08845315e-05,\n",
       "   0.998305202,\n",
       "   5.59169603e-05,\n",
       "   8.40676e-06,\n",
       "   0.000623694097,\n",
       "   9.37837328e-08,\n",
       "   3.02122407e-05,\n",
       "   0.000673384056,\n",
       "   0.000265520968,\n",
       "   2.66215829e-05],\n",
       "  [6.15122842e-09,\n",
       "   1.37476736e-05,\n",
       "   7.48036655e-07,\n",
       "   5.09433448e-06,\n",
       "   0.998631656,\n",
       "   6.65778498e-05,\n",
       "   3.34549725e-07,\n",
       "   0.000170047191,\n",
       "   0.000459448056,\n",
       "   0.000652297167],\n",
       "  [4.72831198e-06,\n",
       "   0.000225677242,\n",
       "   0.000806705502,\n",
       "   0.00298342318,\n",
       "   0.113121301,\n",
       "   0.0127292601,\n",
       "   0.000114861934,\n",
       "   0.000143698097,\n",
       "   0.0141762746,\n",
       "   0.855694115],\n",
       "  [4.37453491e-05,\n",
       "   4.79154139e-09,\n",
       "   0.00018641424,\n",
       "   4.48044411e-05,\n",
       "   4.28702042e-05,\n",
       "   0.974970281,\n",
       "   0.0218718834,\n",
       "   2.30987121e-06,\n",
       "   0.00166136678,\n",
       "   0.00117634528],\n",
       "  [8.26130781e-06,\n",
       "   4.46793536e-08,\n",
       "   1.58569692e-05,\n",
       "   9.70286e-05,\n",
       "   0.0008477589,\n",
       "   0.000127140433,\n",
       "   2.09817614e-07,\n",
       "   0.0176828802,\n",
       "   0.00344316242,\n",
       "   0.97777766]]}"
      ]
     },
     "execution_count": 14,
     "metadata": {},
     "output_type": "execute_result"
    }
   ],
   "source": [
    "res.json()"
   ]
  },
  {
   "cell_type": "code",
   "execution_count": null,
   "id": "based-voice",
   "metadata": {},
   "outputs": [],
   "source": []
  },
  {
   "cell_type": "code",
   "execution_count": null,
   "id": "velvet-speaking",
   "metadata": {},
   "outputs": [],
   "source": []
  }
 ],
 "metadata": {
  "kernelspec": {
   "display_name": "Python 3",
   "language": "python",
   "name": "python3"
  },
  "language_info": {
   "codemirror_mode": {
    "name": "ipython",
    "version": 3
   },
   "file_extension": ".py",
   "mimetype": "text/x-python",
   "name": "python",
   "nbconvert_exporter": "python",
   "pygments_lexer": "ipython3",
   "version": "3.8.8"
  }
 },
 "nbformat": 4,
 "nbformat_minor": 5
}
