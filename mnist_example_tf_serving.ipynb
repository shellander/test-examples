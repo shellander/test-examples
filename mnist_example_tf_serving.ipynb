{
 "cells": [
  {
   "cell_type": "code",
   "execution_count": 2,
   "metadata": {},
   "outputs": [],
   "source": [
    "import os\n",
    "os.environ['TF_FORCE_GPU_ALLOW_GROWTH'] = 'true'\n",
    "\n",
    "# os.environ['CUDA_VISIBLE_DEVICES'] = '-1'\n",
    "\n",
    "import numpy as np\n",
    "import tensorflow as tf\n",
    "from tensorflow import keras\n",
    "from tensorflow.keras import layers\n",
    "\n"
   ]
  },
  {
   "cell_type": "code",
   "execution_count": 3,
   "metadata": {},
   "outputs": [
    {
     "name": "stdout",
     "output_type": "stream",
     "text": [
      "Downloading data from https://storage.googleapis.com/tensorflow/tf-keras-datasets/mnist.npz\n",
      "11493376/11490434 [==============================] - 0s 0us/step\n",
      "x_train shape: (60000, 28, 28, 1)\n",
      "60000 train samples\n",
      "10000 test samples\n"
     ]
    }
   ],
   "source": [
    "# Model / data parameters\n",
    "num_classes = 10\n",
    "input_shape = (28, 28, 1)\n",
    "\n",
    "# the data, split between train and test sets\n",
    "(x_train, y_train), (x_test, y_test) = keras.datasets.mnist.load_data()\n",
    "\n",
    "# Scale images to the [0, 1] range\n",
    "x_train = x_train.astype(\"float32\") / 255\n",
    "x_test = x_test.astype(\"float32\") / 255\n",
    "# Make sure images have shape (28, 28, 1)\n",
    "x_train = np.expand_dims(x_train, -1)\n",
    "x_test = np.expand_dims(x_test, -1)\n",
    "print(\"x_train shape:\", x_train.shape)\n",
    "print(x_train.shape[0], \"train samples\")\n",
    "print(x_test.shape[0], \"test samples\")\n",
    "\n",
    "\n",
    "# convert class vectors to binary class matrices\n",
    "y_train = keras.utils.to_categorical(y_train, num_classes)\n",
    "y_test = keras.utils.to_categorical(y_test, num_classes)\n"
   ]
  },
  {
   "cell_type": "code",
   "execution_count": 4,
   "metadata": {},
   "outputs": [
    {
     "name": "stdout",
     "output_type": "stream",
     "text": [
      "Model: \"sequential\"\n",
      "_________________________________________________________________\n",
      "Layer (type)                 Output Shape              Param #   \n",
      "=================================================================\n",
      "conv2d (Conv2D)              (None, 26, 26, 32)        320       \n",
      "_________________________________________________________________\n",
      "max_pooling2d (MaxPooling2D) (None, 13, 13, 32)        0         \n",
      "_________________________________________________________________\n",
      "conv2d_1 (Conv2D)            (None, 11, 11, 64)        18496     \n",
      "_________________________________________________________________\n",
      "max_pooling2d_1 (MaxPooling2 (None, 5, 5, 64)          0         \n",
      "_________________________________________________________________\n",
      "flatten (Flatten)            (None, 1600)              0         \n",
      "_________________________________________________________________\n",
      "dropout (Dropout)            (None, 1600)              0         \n",
      "_________________________________________________________________\n",
      "dense (Dense)                (None, 10)                16010     \n",
      "=================================================================\n",
      "Total params: 34,826\n",
      "Trainable params: 34,826\n",
      "Non-trainable params: 0\n",
      "_________________________________________________________________\n"
     ]
    }
   ],
   "source": [
    "model = keras.Sequential(\n",
    "    [\n",
    "        keras.Input(shape=input_shape),\n",
    "        layers.Conv2D(32, kernel_size=(3, 3), activation=\"relu\"),\n",
    "        layers.MaxPooling2D(pool_size=(2, 2)),\n",
    "        layers.Conv2D(64, kernel_size=(3, 3), activation=\"relu\"),\n",
    "        layers.MaxPooling2D(pool_size=(2, 2)),\n",
    "        layers.Flatten(),\n",
    "        layers.Dropout(0.5),\n",
    "        layers.Dense(num_classes, activation=\"softmax\"),\n",
    "    ]\n",
    ")\n",
    "\n",
    "model.summary()\n"
   ]
  },
  {
   "cell_type": "code",
   "execution_count": 5,
   "metadata": {},
   "outputs": [
    {
     "name": "stdout",
     "output_type": "stream",
     "text": [
      "422/422 [==============================] - 88s 207ms/step - loss: 0.7344 - accuracy: 0.7734 - val_loss: 0.0822 - val_accuracy: 0.9768\n"
     ]
    },
    {
     "data": {
      "text/plain": [
       "<tensorflow.python.keras.callbacks.History at 0x7f8098ffd0a0>"
      ]
     },
     "execution_count": 5,
     "metadata": {},
     "output_type": "execute_result"
    }
   ],
   "source": [
    "\n",
    "batch_size = 128\n",
    "epochs = 1\n",
    "\n",
    "model.compile(loss=\"categorical_crossentropy\", optimizer=\"adam\", metrics=[\"accuracy\"])\n",
    "\n",
    "model.fit(x_train, y_train, batch_size=batch_size, epochs=epochs, validation_split=0.1)\n"
   ]
  },
  {
   "cell_type": "code",
   "execution_count": 6,
   "metadata": {},
   "outputs": [],
   "source": [
    "test = model.predict(x_test)"
   ]
  },
  {
   "cell_type": "code",
   "execution_count": 8,
   "metadata": {},
   "outputs": [
    {
     "name": "stdout",
     "output_type": "stream",
     "text": [
      "INFO:tensorflow:Assets written to: models/1/assets\n"
     ]
    }
   ],
   "source": [
    "tf.saved_model.save(model, 'models/1/')"
   ]
  },
  {
   "cell_type": "code",
   "execution_count": 16,
   "metadata": {},
   "outputs": [],
   "source": []
  },
  {
   "cell_type": "code",
   "execution_count": 24,
   "metadata": {},
   "outputs": [],
   "source": [
    "import requests\n",
    "import scaleout.auth as sa"
   ]
  },
  {
   "cell_type": "code",
   "execution_count": 31,
   "metadata": {},
   "outputs": [],
   "source": [
    "inp = {\"inputs\": x_test[0:10].tolist()}"
   ]
  },
  {
   "cell_type": "code",
   "execution_count": 43,
   "metadata": {},
   "outputs": [],
   "source": [
    "token, config = sa.get_token()\n",
    "res = requests.post('https://tensorflow-serving-test-eju-9ce4.studio-dev.local.stackn.dev/v1/models/models:predict', json=inp, headers={\"Authorization\": \"Bearer \"+token})"
   ]
  },
  {
   "cell_type": "code",
   "execution_count": 44,
   "metadata": {},
   "outputs": [
    {
     "data": {
      "text/plain": [
       "{'outputs': [[1.64117466e-07,\n",
       "   1.71092374e-09,\n",
       "   9.02497686e-06,\n",
       "   8.33915692e-06,\n",
       "   2.56994287e-10,\n",
       "   4.90337682e-09,\n",
       "   1.96727205e-12,\n",
       "   0.999978185,\n",
       "   6.85942538e-08,\n",
       "   4.2300062e-06],\n",
       "  [0.000341361563,\n",
       "   0.00047096191,\n",
       "   0.997864068,\n",
       "   4.03026643e-05,\n",
       "   2.21642527e-09,\n",
       "   5.41947884e-07,\n",
       "   0.00105721201,\n",
       "   4.4137749e-10,\n",
       "   0.000225375145,\n",
       "   1.8258178e-11],\n",
       "  [4.85109e-05,\n",
       "   0.995219767,\n",
       "   0.000300258427,\n",
       "   6.68863941e-05,\n",
       "   0.00218053651,\n",
       "   5.24084635e-06,\n",
       "   0.000829518249,\n",
       "   0.000645498571,\n",
       "   0.000651024,\n",
       "   5.27858465e-05],\n",
       "  [0.999343097,\n",
       "   3.01201508e-10,\n",
       "   2.77711642e-05,\n",
       "   1.25704389e-07,\n",
       "   8.76815136e-08,\n",
       "   8.30702447e-06,\n",
       "   0.000598079234,\n",
       "   7.00484225e-06,\n",
       "   7.81792551e-06,\n",
       "   7.66947687e-06],\n",
       "  [3.94258359e-06,\n",
       "   4.71371351e-07,\n",
       "   7.7931345e-06,\n",
       "   8.34848265e-07,\n",
       "   0.997844815,\n",
       "   3.93695672e-07,\n",
       "   3.69919435e-05,\n",
       "   2.47607659e-05,\n",
       "   1.13509641e-05,\n",
       "   0.00206880225],\n",
       "  [5.85317175e-05,\n",
       "   0.994883716,\n",
       "   0.000249574747,\n",
       "   9.55207579e-05,\n",
       "   0.00132206397,\n",
       "   1.80953384e-06,\n",
       "   0.000282407971,\n",
       "   0.00149657263,\n",
       "   0.00146470114,\n",
       "   0.000145186757],\n",
       "  [1.27947018e-07,\n",
       "   0.000267597585,\n",
       "   2.98754076e-05,\n",
       "   5.21185939e-05,\n",
       "   0.961567044,\n",
       "   0.000631006551,\n",
       "   4.99125326e-06,\n",
       "   0.000658811885,\n",
       "   0.0340308212,\n",
       "   0.00275769294],\n",
       "  [4.73945511e-06,\n",
       "   0.000351049152,\n",
       "   0.000964536332,\n",
       "   0.00459057465,\n",
       "   0.0561490469,\n",
       "   0.0409285948,\n",
       "   0.000105419458,\n",
       "   0.000504071184,\n",
       "   0.018258987,\n",
       "   0.878142953],\n",
       "  [1.35498904e-05,\n",
       "   1.74368719e-09,\n",
       "   9.03370383e-05,\n",
       "   1.54967438e-05,\n",
       "   1.21301837e-05,\n",
       "   0.991017938,\n",
       "   0.00646900618,\n",
       "   2.70897e-06,\n",
       "   0.00217193,\n",
       "   0.000206888872],\n",
       "  [1.07352798e-05,\n",
       "   2.09863558e-08,\n",
       "   1.88784834e-05,\n",
       "   0.000166972415,\n",
       "   0.000667082495,\n",
       "   0.000399572367,\n",
       "   8.55191388e-07,\n",
       "   0.0232081655,\n",
       "   0.0142364344,\n",
       "   0.961291254]]}"
      ]
     },
     "execution_count": 44,
     "metadata": {},
     "output_type": "execute_result"
    }
   ],
   "source": [
    "res.json()"
   ]
  },
  {
   "cell_type": "code",
   "execution_count": null,
   "metadata": {},
   "outputs": [],
   "source": []
  }
 ],
 "metadata": {
  "kernelspec": {
   "display_name": "Python 3",
   "language": "python",
   "name": "python3"
  },
  "language_info": {
   "codemirror_mode": {
    "name": "ipython",
    "version": 3
   },
   "file_extension": ".py",
   "mimetype": "text/x-python",
   "name": "python",
   "nbconvert_exporter": "python",
   "pygments_lexer": "ipython3",
   "version": "3.8.6"
  }
 },
 "nbformat": 4,
 "nbformat_minor": 5
}
