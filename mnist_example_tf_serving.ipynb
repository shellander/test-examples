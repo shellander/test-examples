{
 "cells": [
  {
   "cell_type": "code",
   "execution_count": 1,
   "id": "modern-hardware",
   "metadata": {},
   "outputs": [],
   "source": [
    "import os\n",
    "os.environ['TF_FORCE_GPU_ALLOW_GROWTH'] = 'true'\n",
    "\n",
    "# os.environ['CUDA_VISIBLE_DEVICES'] = '-1'\n",
    "\n",
    "import numpy as np\n",
    "import tensorflow as tf\n",
    "from tensorflow import keras\n",
    "from tensorflow.keras import layers\n",
    "\n"
   ]
  },
  {
   "cell_type": "code",
   "execution_count": 2,
   "id": "interesting-organic",
   "metadata": {},
   "outputs": [
    {
     "name": "stdout",
     "output_type": "stream",
     "text": [
      "x_train shape: (60000, 28, 28, 1)\n",
      "60000 train samples\n",
      "10000 test samples\n"
     ]
    }
   ],
   "source": [
    "# Model / data parameters\n",
    "num_classes = 10\n",
    "input_shape = (28, 28, 1)\n",
    "\n",
    "# the data, split between train and test sets\n",
    "(x_train, y_train), (x_test, y_test) = keras.datasets.mnist.load_data()\n",
    "\n",
    "# Scale images to the [0, 1] range\n",
    "x_train = x_train.astype(\"float32\") / 255\n",
    "x_test = x_test.astype(\"float32\") / 255\n",
    "# Make sure images have shape (28, 28, 1)\n",
    "x_train = np.expand_dims(x_train, -1)\n",
    "x_test = np.expand_dims(x_test, -1)\n",
    "print(\"x_train shape:\", x_train.shape)\n",
    "print(x_train.shape[0], \"train samples\")\n",
    "print(x_test.shape[0], \"test samples\")\n",
    "\n",
    "\n",
    "# convert class vectors to binary class matrices\n",
    "y_train = keras.utils.to_categorical(y_train, num_classes)\n",
    "y_test = keras.utils.to_categorical(y_test, num_classes)\n"
   ]
  },
  {
   "cell_type": "code",
   "execution_count": 3,
   "id": "backed-might",
   "metadata": {},
   "outputs": [
    {
     "name": "stdout",
     "output_type": "stream",
     "text": [
      "Model: \"sequential\"\n",
      "_________________________________________________________________\n",
      "Layer (type)                 Output Shape              Param #   \n",
      "=================================================================\n",
      "conv2d (Conv2D)              (None, 26, 26, 32)        320       \n",
      "_________________________________________________________________\n",
      "max_pooling2d (MaxPooling2D) (None, 13, 13, 32)        0         \n",
      "_________________________________________________________________\n",
      "conv2d_1 (Conv2D)            (None, 11, 11, 64)        18496     \n",
      "_________________________________________________________________\n",
      "max_pooling2d_1 (MaxPooling2 (None, 5, 5, 64)          0         \n",
      "_________________________________________________________________\n",
      "flatten (Flatten)            (None, 1600)              0         \n",
      "_________________________________________________________________\n",
      "dropout (Dropout)            (None, 1600)              0         \n",
      "_________________________________________________________________\n",
      "dense (Dense)                (None, 10)                16010     \n",
      "=================================================================\n",
      "Total params: 34,826\n",
      "Trainable params: 34,826\n",
      "Non-trainable params: 0\n",
      "_________________________________________________________________\n"
     ]
    }
   ],
   "source": [
    "model = keras.Sequential(\n",
    "    [\n",
    "        keras.Input(shape=input_shape),\n",
    "        layers.Conv2D(32, kernel_size=(3, 3), activation=\"relu\"),\n",
    "        layers.MaxPooling2D(pool_size=(2, 2)),\n",
    "        layers.Conv2D(64, kernel_size=(3, 3), activation=\"relu\"),\n",
    "        layers.MaxPooling2D(pool_size=(2, 2)),\n",
    "        layers.Flatten(),\n",
    "        layers.Dropout(0.5),\n",
    "        layers.Dense(num_classes, activation=\"softmax\"),\n",
    "    ]\n",
    ")\n",
    "\n",
    "model.summary()\n"
   ]
  },
  {
   "cell_type": "code",
   "execution_count": 4,
   "id": "metallic-powell",
   "metadata": {},
   "outputs": [
    {
     "name": "stdout",
     "output_type": "stream",
     "text": [
      "422/422 [==============================] - 81s 190ms/step - loss: 0.7579 - accuracy: 0.7640 - val_loss: 0.0934 - val_accuracy: 0.9763\n"
     ]
    },
    {
     "data": {
      "text/plain": [
       "<tensorflow.python.keras.callbacks.History at 0x7fb4bd949160>"
      ]
     },
     "execution_count": 4,
     "metadata": {},
     "output_type": "execute_result"
    }
   ],
   "source": [
    "\n",
    "batch_size = 128\n",
    "epochs = 1\n",
    "\n",
    "model.compile(loss=\"categorical_crossentropy\", optimizer=\"adam\", metrics=[\"accuracy\"])\n",
    "\n",
    "model.fit(x_train, y_train, batch_size=batch_size, epochs=epochs, validation_split=0.1)\n"
   ]
  },
  {
   "cell_type": "code",
   "execution_count": 6,
   "id": "approved-member",
   "metadata": {},
   "outputs": [],
   "source": [
    "test = model.predict(x_test)"
   ]
  },
  {
   "cell_type": "code",
   "execution_count": 5,
   "id": "japanese-circulation",
   "metadata": {},
   "outputs": [
    {
     "name": "stdout",
     "output_type": "stream",
     "text": [
      "INFO:tensorflow:Assets written to: models/1/assets\n"
     ]
    }
   ],
   "source": [
    "tf.saved_model.save(model, 'models/1/')"
   ]
  },
  {
   "cell_type": "code",
   "execution_count": 16,
   "id": "loose-enhancement",
   "metadata": {},
   "outputs": [],
   "source": []
  },
  {
   "cell_type": "code",
   "execution_count": 7,
   "id": "angry-banana",
   "metadata": {},
   "outputs": [],
   "source": [
    "import requests\n",
    "import stackn.auth as sa"
   ]
  },
  {
   "cell_type": "code",
   "execution_count": 8,
   "id": "current-magazine",
   "metadata": {},
   "outputs": [],
   "source": [
    "inp = {\"inputs\": x_test[0:10].tolist()}"
   ]
  },
  {
   "cell_type": "code",
   "execution_count": 28,
   "id": "minor-conspiracy",
   "metadata": {},
   "outputs": [],
   "source": [
    "conf, status = sa.get_token()\n",
    "res = requests.post('https://tensorflow-serving-mnist-test-hfa-9045.studio.local.stackn.dev/v1/models/models:predict', json=inp, headers={\"Authorization\": \"Bearer \"+conf[\"STACKN_ACCESS_TOKEN\"]})"
   ]
  },
  {
   "cell_type": "code",
   "execution_count": 29,
   "id": "assigned-rocket",
   "metadata": {},
   "outputs": [
    {
     "data": {
      "text/plain": [
       "{'outputs': [[1.65731304e-08,\n",
       "   1.23818367e-09,\n",
       "   9.12531618e-07,\n",
       "   3.76514663e-06,\n",
       "   9.88239351e-11,\n",
       "   2.95853275e-09,\n",
       "   5.86294088e-13,\n",
       "   0.999992728,\n",
       "   9.22080101e-09,\n",
       "   2.48703441e-06],\n",
       "  [0.00324816559,\n",
       "   0.00168007705,\n",
       "   0.993385732,\n",
       "   5.16019682e-05,\n",
       "   2.36656561e-08,\n",
       "   2.24792e-06,\n",
       "   0.00151112874,\n",
       "   4.37433423e-09,\n",
       "   0.000121032703,\n",
       "   3.04132497e-10],\n",
       "  [1.10937117e-05,\n",
       "   0.998290479,\n",
       "   6.64464606e-05,\n",
       "   1.7213817e-05,\n",
       "   0.000734296453,\n",
       "   1.55083558e-06,\n",
       "   0.000128720058,\n",
       "   0.000645991124,\n",
       "   9.12914256e-05,\n",
       "   1.29455311e-05],\n",
       "  [0.999680281,\n",
       "   6.85754509e-10,\n",
       "   1.78727714e-05,\n",
       "   1.03551379e-07,\n",
       "   3.27164287e-07,\n",
       "   2.28460749e-06,\n",
       "   0.000256543426,\n",
       "   1.5536456e-05,\n",
       "   8.25512359e-07,\n",
       "   2.61865753e-05],\n",
       "  [7.80159098e-07,\n",
       "   4.15953316e-08,\n",
       "   4.07271529e-07,\n",
       "   5.41890088e-08,\n",
       "   0.999595225,\n",
       "   4.25559143e-08,\n",
       "   2.87392504e-06,\n",
       "   1.960384e-05,\n",
       "   6.81592098e-08,\n",
       "   0.000380776764],\n",
       "  [4.02169508e-06,\n",
       "   0.998417258,\n",
       "   2.28037588e-05,\n",
       "   8.27190888e-06,\n",
       "   0.00042114078,\n",
       "   2.26777956e-07,\n",
       "   2.22117851e-05,\n",
       "   0.00103100378,\n",
       "   6.08837727e-05,\n",
       "   1.22177462e-05],\n",
       "  [6.81952539e-09,\n",
       "   2.740944e-05,\n",
       "   1.18089679e-06,\n",
       "   2.10906683e-06,\n",
       "   0.998948038,\n",
       "   3.55552911e-05,\n",
       "   3.53649654e-07,\n",
       "   0.000147270723,\n",
       "   0.000112556634,\n",
       "   0.000725599763],\n",
       "  [3.97749227e-06,\n",
       "   0.000178676593,\n",
       "   0.00071201945,\n",
       "   0.000800375536,\n",
       "   0.094503805,\n",
       "   0.00769438827,\n",
       "   4.41291631e-05,\n",
       "   0.000422397221,\n",
       "   0.00321978936,\n",
       "   0.892420411],\n",
       "  [5.60353e-05,\n",
       "   6.63032207e-09,\n",
       "   0.000114071227,\n",
       "   2.8454574e-06,\n",
       "   5.54133976e-06,\n",
       "   0.965304613,\n",
       "   0.0320123471,\n",
       "   9.89172349e-06,\n",
       "   0.000445834099,\n",
       "   0.00204882445],\n",
       "  [7.58449187e-06,\n",
       "   1.66640547e-07,\n",
       "   6.62359344e-06,\n",
       "   3.3512315e-05,\n",
       "   0.00222284719,\n",
       "   2.55946088e-05,\n",
       "   1.10829042e-07,\n",
       "   0.0359300338,\n",
       "   0.000555225182,\n",
       "   0.961218297]]}"
      ]
     },
     "execution_count": 29,
     "metadata": {},
     "output_type": "execute_result"
    }
   ],
   "source": [
    "res.json()"
   ]
  },
  {
   "cell_type": "code",
   "execution_count": 27,
   "id": "announced-description",
   "metadata": {},
   "outputs": [
    {
     "data": {
      "text/plain": [
       "'eyJhbGciOiJSUzI1NiIsInR5cCIgOiAiSldUIiwia2lkIiA6ICJWRUM4ZHkzdy1XQjdwRlNndUZlVFVpckxvVDZEV0hTMnBwWGZteWNiaWI4In0.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.aos7SjbhnMEQBWzc1HaHlfO8CfBFwabKSKcDr6xcqUEVpX3j3AA1qzyE6OL0u6n60vU7QtXdOTi53OFZZGt-zCyUjLE1qgi79E0Ppg4L8jqarPFSnhADKwo1XsN1QQWM8nj7us1nSdICuJUcgiuVa57DRA4HzYHFJS7G_ACddSxV8gpj7OE4PSzVuMA8S8Hj0h_zY_RuMgzlasyWVLwTT6xGhjxeNHkxUam5XV6Vfqt6IT5KdgOPPlYnrOIsKXb4krVUG9Kr6T2Fask3TvhyJKCxthh8TTR1fkRFaiVNo4NSekw4IyxoDlCgY1z3Jmvrr6-ymk_i3kFMOsEIVJHdTw'"
      ]
     },
     "execution_count": 27,
     "metadata": {},
     "output_type": "execute_result"
    }
   ],
   "source": [
    "conf[\"STACKN_TOKEN\"]"
   ]
  },
  {
   "cell_type": "code",
   "execution_count": null,
   "id": "accompanied-wings",
   "metadata": {},
   "outputs": [],
   "source": []
  }
 ],
 "metadata": {
  "kernelspec": {
   "display_name": "Python 3",
   "language": "python",
   "name": "python3"
  },
  "language_info": {
   "codemirror_mode": {
    "name": "ipython",
    "version": 3
   },
   "file_extension": ".py",
   "mimetype": "text/x-python",
   "name": "python",
   "nbconvert_exporter": "python",
   "pygments_lexer": "ipython3",
   "version": "3.8.8"
  }
 },
 "nbformat": 4,
 "nbformat_minor": 5
}
