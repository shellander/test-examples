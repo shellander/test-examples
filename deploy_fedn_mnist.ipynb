{
 "cells": [
  {
   "cell_type": "code",
   "execution_count": 2,
   "id": "mediterranean-apparatus",
   "metadata": {},
   "outputs": [],
   "source": [
    "import os\n",
    "# from pydantic import BaseModel\n",
    "\n",
    "from fedn.utils.kerashelper import KerasHelper\n",
    "from models.mnist_model import create_seed_model"
   ]
  },
  {
   "cell_type": "code",
   "execution_count": 6,
   "id": "increased-founder",
   "metadata": {},
   "outputs": [],
   "source": [
    "path_to_model_weights = '/home/jovyan/work/minio-vol/fedn-models/25ffc696-e915-4d01-8c5f-fec42d6ac8f0'\n",
    "    \n",
    "helper = KerasHelper()\n",
    "weights = helper.load_model(path_to_model_weights)\n",
    "\n",
    "model = create_seed_model()\n",
    "model.set_weights(weights)"
   ]
  },
  {
   "cell_type": "code",
   "execution_count": 7,
   "id": "pointed-arena",
   "metadata": {},
   "outputs": [],
   "source": [
    "import tensorflow as tf"
   ]
  },
  {
   "cell_type": "code",
   "execution_count": 8,
   "id": "radical-promise",
   "metadata": {},
   "outputs": [
    {
     "name": "stdout",
     "output_type": "stream",
     "text": [
      "INFO:tensorflow:Assets written to: models/1/assets\n"
     ]
    }
   ],
   "source": [
    "tf.saved_model.save(model, 'models/1/')"
   ]
  },
  {
   "cell_type": "code",
   "execution_count": null,
   "id": "absent-machine",
   "metadata": {},
   "outputs": [],
   "source": []
  }
 ],
 "metadata": {
  "kernelspec": {
   "display_name": "Python 3",
   "language": "python",
   "name": "python3"
  },
  "language_info": {
   "codemirror_mode": {
    "name": "ipython",
    "version": 3
   },
   "file_extension": ".py",
   "mimetype": "text/x-python",
   "name": "python",
   "nbconvert_exporter": "python",
   "pygments_lexer": "ipython3",
   "version": "3.8.8"
  }
 },
 "nbformat": 4,
 "nbformat_minor": 5
}
